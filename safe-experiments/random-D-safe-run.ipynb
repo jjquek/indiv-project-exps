{
 "cells": [
  {
   "cell_type": "markdown",
   "metadata": {},
   "source": [
    "# Test Runs of SAFE With Random `[-D, D]` Interval\n",
    "\n",
    "## Introduction\n",
    "\n",
    "This notebook showcases an implementation of the proposed protocol for randomizing the $D$ value used in each round of a trend detection protocol. \n",
    "\n",
    "This protocol is described in Section 4.0.4 of the report."
   ]
  },
  {
   "cell_type": "markdown",
   "metadata": {},
   "source": [
    "\n",
    "### Testing The Shared PRNG\n",
    "\n",
    "Assuming that users use the same PRNG (the one in `random`) and a shared seed, they can generate a shared random `D` value for each round of the SAFE protocol. \n",
    "\n",
    "Below we use an adapted PRNG from Python's documentation to generate the random floats. See [this script](secure_SAFE_utils.py) for details.\n",
    "\n",
    "Let's see it generate a few float values."
   ]
  },
  {
   "cell_type": "code",
   "execution_count": 1,
   "metadata": {},
   "outputs": [
    {
     "name": "stdout",
     "output_type": "stream",
     "text": [
      "11613.49268699761\n",
      "245416.82755214526\n",
      "14548830.783622317\n",
      "3821455.7910910887\n",
      "49780359.35642068\n",
      "471097.0168719898\n",
      "6434314.925774718\n",
      "2836508.010135213\n",
      "52878698.22020412\n",
      "88718462.36848637\n",
      "18970195.149385847\n",
      "115456656.76885584\n",
      "50972.905916520736\n",
      "1021033.1478310596\n",
      "1748152.7667528219\n"
     ]
    }
   ],
   "source": [
    "from secure_SAFE_utils import SharedPRNG\n",
    "from itertools import repeat\n",
    "\n",
    "shared_secret_seed = 1153\n",
    "\n",
    "prng = SharedPRNG(shared_secret_seed)\n",
    "\n",
    "for _ in repeat(None, 15):\n",
    "    print(prng.random())"
   ]
  },
  {
   "cell_type": "markdown",
   "metadata": {},
   "source": [
    "#### Using The PRNG Within SAFE\n",
    "\n",
    "Let's first see what the default value of $D$ is"
   ]
  },
  {
   "cell_type": "code",
   "execution_count": 2,
   "metadata": {},
   "outputs": [
    {
     "name": "stdout",
     "output_type": "stream",
     "text": [
      "100.0\n"
     ]
    }
   ],
   "source": [
    "from MoodAppUser import MoodAppUser\n",
    "\n",
    "MoodAppUser.set_D_value()\n",
    "print(MoodAppUser.D_Value)"
   ]
  },
  {
   "cell_type": "markdown",
   "metadata": {},
   "source": [
    "Let's now set it randomly using the `shared_secret_seed` from above"
   ]
  },
  {
   "cell_type": "code",
   "execution_count": 3,
   "metadata": {},
   "outputs": [
    {
     "name": "stdout",
     "output_type": "stream",
     "text": [
      "11613.49268699761\n"
     ]
    }
   ],
   "source": [
    "MoodAppUser.set_D_value(value_is_random=True, shared_seed=shared_secret_seed)\n",
    "print(MoodAppUser.D_Value)"
   ]
  },
  {
   "cell_type": "markdown",
   "metadata": {},
   "source": [
    "Notice how this value is the *same* as the first value the other instance of the `SharedPRNG` generated above!\n",
    "\n",
    "This is because they use the same seed.\n",
    "\n",
    "If we call it again:"
   ]
  },
  {
   "cell_type": "code",
   "execution_count": 4,
   "metadata": {},
   "outputs": [
    {
     "name": "stdout",
     "output_type": "stream",
     "text": [
      "245416.82755214526\n"
     ]
    }
   ],
   "source": [
    "MoodAppUser.set_D_value(value_is_random=True, shared_seed=shared_secret_seed)\n",
    "print(MoodAppUser.D_Value)"
   ]
  },
  {
   "cell_type": "markdown",
   "metadata": {},
   "source": [
    "We get the second value.\n",
    "\n",
    "#### Trial Run With Randomized D Value\n",
    "\n",
    "Let's try replicate the result we had in [this notebook](safe-applied-to-use-case.ipynb) with random $D$ values.\n",
    "\n",
    "The code is essentially the same, except we will set the $D$ value randomly each time."
   ]
  },
  {
   "cell_type": "code",
   "execution_count": 5,
   "metadata": {},
   "outputs": [],
   "source": [
    "import random as r\n",
    "import numpy as np\n",
    "from pprint import pprint\n",
    "from collections import Counter\n",
    "\n",
    "r.seed(123) # as in the use-case application\n",
    "\n",
    "round_and_D_values = {}\n",
    "\n",
    "POSSIBLE_RESPONSES = {\n",
    "    0: \"I'm feeling joyful!\",\n",
    "    1: \"I'm feeling angry\",\n",
    "    2: \"I'm feeling disgusted\",\n",
    "    3: \"I'm feeling fearful\",\n",
    "    4: \"I'm feeling sad...\",\n",
    "    5: \"I'm feeling surprised!\",\n",
    "    6: \"I'm feeling neutral\",\n",
    "}\n",
    "KEYWORDS = [0, 1, 2, 3, 4, 5, 6] # corresponding to our 7-emotion taxonomy\n",
    "\n",
    "NO_OF_DAYS_TRACKED = 21\n",
    "NO_OF_USERS = 10"
   ]
  },
  {
   "cell_type": "code",
   "execution_count": 6,
   "metadata": {},
   "outputs": [
    {
     "name": "stdout",
     "output_type": "stream",
     "text": [
      "Target Posterior For Initial Round:\n",
      "\n",
      "array([0.26539388, 0.27219592, 0.21093469, 0.25181838, 0.13605509,\n",
      "       0.18372653, 0.10886122])\n"
     ]
    }
   ],
   "source": [
    "# DOCUMENT SET AND USER GENERATION\n",
    "\n",
    "random_document_sets = [r.choices(KEYWORDS, k = NO_OF_DAYS_TRACKED) for _ in repeat(None,   NO_OF_USERS)]\n",
    "\n",
    "users = [MoodAppUser(i, document_set) for i, document_set in enumerate(random_document_sets)]\n",
    "\n",
    "# PRIORS\n",
    "\n",
    "no_of_keywords = len(KEYWORDS)\n",
    "priors_for_keywords = np.round([(1 / no_of_keywords) for _ in repeat(None, no_of_keywords)], 4)\n",
    "\n",
    "# TARGET POSTERIOR\n",
    "\n",
    "target_aggregation = np.sum(list([user.feature_vector for user in users]), axis = 0)\n",
    "\n",
    "target_posterior = np.multiply(target_aggregation, priors_for_keywords)\n",
    "\n",
    "print(\"Target Posterior For Initial Round:\\n\")\n",
    "pprint(target_posterior)"
   ]
  },
  {
   "cell_type": "code",
   "execution_count": 7,
   "metadata": {},
   "outputs": [
    {
     "name": "stdout",
     "output_type": "stream",
     "text": [
      "454650.9619881974\n"
     ]
    }
   ],
   "source": [
    "# SHARE_GENERATION\n",
    "\n",
    "MoodAppUser.set_D_value(value_is_random=True, shared_seed=shared_secret_seed)\n",
    "\n",
    "for i in range(NO_OF_USERS):\n",
    "    users[i].generate_shares_to_send(NO_OF_USERS, no_of_keywords)\n",
    "    users[i].calculate_Nth_share()\n",
    "\n",
    "# SANITY CHECK\n",
    "assert np.all(np.subtract(users[0].feature_vector, np.sum(list(users[0].shares_to_send.values()), axis = 0))  == users[0].Nth_share)\n",
    "\n",
    "print(MoodAppUser.D_Value)"
   ]
  },
  {
   "cell_type": "code",
   "execution_count": 8,
   "metadata": {},
   "outputs": [],
   "source": [
    "# SHARE_DISTRIBUTION\n",
    "\n",
    "for user in range(NO_OF_USERS):\n",
    "    other_user_ids = [id for id in range(NO_OF_USERS) if id != user]\n",
    "    for other_user in other_user_ids:\n",
    "        share_to_send = users[user].get_share_for_user(other_user)\n",
    "        users[other_user].receive_share(share_to_send)\n",
    "    # NOTE - as noted below, we can generate the obfuscated vector here if we want to be more efficient.\n",
    "\n",
    "# SANITY CHECK\n",
    "assert np.all(users[0].shares_to_send[1] == users[1].shares_received[0])"
   ]
  },
  {
   "cell_type": "code",
   "execution_count": 9,
   "metadata": {},
   "outputs": [
    {
     "name": "stdout",
     "output_type": "stream",
     "text": [
      "[-407727.4204 -101461.5862 -356932.0088   66861.2633  421120.0703\n",
      " -159405.0515  133518.1092]\n"
     ]
    }
   ],
   "source": [
    "print(users[0].shares_to_send[1])"
   ]
  },
  {
   "cell_type": "code",
   "execution_count": 10,
   "metadata": {},
   "outputs": [
    {
     "name": "stdout",
     "output_type": "stream",
     "text": [
      "Sum of raw vectors: \n",
      "\n",
      " [1.8572 1.9048 1.4761 1.7622 0.9521 1.2857 0.7618]\n",
      "Sum of masked vectors: \n",
      "\n",
      " [1.8572 1.9048 1.4761 1.7622 0.9521 1.2857 0.7618]\n",
      "\n"
     ]
    }
   ],
   "source": [
    "# OBFUSCATED FEATURE VECTOR CALCULATION AND SECURE POSTERIOR CALCULATION\n",
    "\n",
    "for user in range(NO_OF_USERS):\n",
    "    users[user].generate_obfuscated_feature_v()\n",
    "\n",
    "masked_vector_result = np.sum(list([user.obfuscated_feature_v for user in users]), axis = 0)\n",
    "\n",
    "# rounding because precision beyond 4.d.p is unlikely to be consequential :\n",
    "target_aggregation = np.round(target_aggregation, 4) \n",
    "masked_vector_result = np.round(masked_vector_result, 4)\n",
    "assert np.array_equal(target_aggregation, masked_vector_result)\n",
    "\n",
    "print(f\"Sum of raw vectors: \\n\\n {target_aggregation}\")\n",
    "print(f\"Sum of masked vectors: \\n\\n {masked_vector_result}\\n\")"
   ]
  },
  {
   "cell_type": "markdown",
   "metadata": {},
   "source": [
    "**Success!**"
   ]
  }
 ],
 "metadata": {
  "kernelspec": {
   "display_name": "project-venv",
   "language": "python",
   "name": "project-venv"
  },
  "language_info": {
   "codemirror_mode": {
    "name": "ipython",
    "version": 3
   },
   "file_extension": ".py",
   "mimetype": "text/x-python",
   "name": "python",
   "nbconvert_exporter": "python",
   "pygments_lexer": "ipython3",
   "version": "3.8.10"
  },
  "orig_nbformat": 4,
  "vscode": {
   "interpreter": {
    "hash": "31f2aee4e71d21fbe5cf8b01ff0e069b9275f58929596ceb00d14d90e3e16cd6"
   }
  }
 },
 "nbformat": 4,
 "nbformat_minor": 2
}
