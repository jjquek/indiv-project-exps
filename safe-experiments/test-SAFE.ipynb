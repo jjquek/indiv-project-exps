{
 "cells": [
  {
   "cell_type": "markdown",
   "metadata": {},
   "source": [
    "# Trial For SAFE Code\n",
    "\n",
    "## Intro\n",
    "\n",
    "This notebook is a playground for testing various implementations of the SAFE protocol in an *object-oriented* fashion.\n",
    "\n",
    "We begin with what our 'main' might look like. \n",
    "\n",
    "Let's start simple : 3 users "
   ]
  },
  {
   "cell_type": "code",
   "execution_count": 2,
   "metadata": {},
   "outputs": [
    {
     "name": "stdout",
     "output_type": "stream",
     "text": [
      "Here are some users and their raw feature vectors:\n",
      "\n",
      "User 0 and their raw feature vectors:\n",
      "[0.4286 0.1429 0.1429 0.1429 0.1429 0.     0.    ] of length 7\n",
      "\n",
      "User 1 and their raw feature vectors:\n",
      "[0.1429 0.1429 0.2857 0.1429 0.1429 0.1429 0.    ] of length 7\n",
      "\n",
      "User 2 and their raw feature vectors:\n",
      "[0.2857 0.4286 0.1429 0.1429 0.     0.     0.    ] of length 7\n",
      "\n"
     ]
    }
   ],
   "source": [
    "import random as r\n",
    "from itertools import repeat\n",
    "import numpy as np\n",
    "from MoodAppUser import MoodAppUser\n",
    "\n",
    "# from `safe-applied-to-use-case.ipynb`\n",
    "\n",
    "NO_OF_DAYS_TRACKED = 7\n",
    "NO_OF_USERS = 3\n",
    "\n",
    "KEYWORDS = [0, 1, 2, 3, 4, 5, 6] # corresponding to our 7-emotion taxonomy\n",
    "\n",
    "random_document_sets = [r.choices(KEYWORDS, k = NO_OF_DAYS_TRACKED) for _ in repeat(None, NO_OF_USERS)]\n",
    "\n",
    "users = [MoodAppUser(i, document_set) for i, document_set in enumerate(random_document_sets)]\n",
    "\n",
    "print(\"Here are some users and their raw feature vectors:\\n\")\n",
    "for i in range(3):\n",
    "    print(f\"User {users[i].id} and their raw feature vectors:\\n{users[i].feature_vector} of length {len(users[i].feature_vector)}\\n\")"
   ]
  },
  {
   "cell_type": "markdown",
   "metadata": {},
   "source": [
    "#### Uniform Priors Generation\n",
    "\n",
    "We generate some uniform priors for the bayesian calculation"
   ]
  },
  {
   "cell_type": "code",
   "execution_count": 3,
   "metadata": {},
   "outputs": [],
   "source": [
    "no_of_keywords = len(KEYWORDS)\n",
    "priors_for_keywords = [round(1 / no_of_keywords, 4) for _ in repeat(None, no_of_keywords)]"
   ]
  },
  {
   "cell_type": "markdown",
   "metadata": {},
   "source": [
    "#### N Shares Generation\n",
    "\n",
    "Users first want to generate $N-1$ shares to send to other users. \n",
    "\n",
    "They will also generate their $N^{th}$ share (to keep) using these.\n",
    "\n",
    "First, we set the D value for the round, and then users will draw shares from these.\n",
    "\n",
    "For sake of simplicity, we will defer randomized generation of D to later."
   ]
  },
  {
   "cell_type": "code",
   "execution_count": 4,
   "metadata": {},
   "outputs": [],
   "source": [
    "MoodAppUser.set_D_value()\n",
    "\n",
    "for i in range(NO_OF_USERS):\n",
    "    users[i].generate_shares_to_send(NO_OF_USERS, no_of_keywords)\n",
    "    users[i].calculate_Nth_share()\n",
    "\n",
    "# SANITY CHECK\n",
    "assert np.all(np.subtract(users[0].feature_vector, np.sum(list(users[0].shares_to_send.values()), axis = 0))  == users[0].Nth_share) "
   ]
  },
  {
   "cell_type": "markdown",
   "metadata": {},
   "source": [
    "#### Share Distribution\n",
    "\n",
    "Now we wish to distribute the shares among the users.\n",
    "\n",
    "User 0 will send the shares they generated for User 1 and User 2 to each respectively, and so on."
   ]
  },
  {
   "cell_type": "code",
   "execution_count": 5,
   "metadata": {},
   "outputs": [],
   "source": [
    "for user in range(NO_OF_USERS):\n",
    "    other_user_ids = [id for id in range(NO_OF_USERS) if id != user]\n",
    "    for other_user in other_user_ids:\n",
    "        share_to_send = users[user].get_share_for_user(other_user)\n",
    "        users[other_user].receive_share(share_to_send)\n",
    "    # NOTE - as noted below, we can generate the obfuscated vector here if we want to be more efficient.\n",
    "\n",
    "# SANITY CHECK\n",
    "assert np.all(users[0].shares_to_send[1] == users[1].shares_received[0])"
   ]
  },
  {
   "cell_type": "markdown",
   "metadata": {},
   "source": [
    "### Calculate Obfuscated Feature Vector\n",
    "\n",
    "Having distributed the shares, each user can now calculate their obfuscated feature vector.\n",
    "\n",
    "They do this by adding the sum of received shares to their Nth share."
   ]
  },
  {
   "cell_type": "code",
   "execution_count": 6,
   "metadata": {},
   "outputs": [],
   "source": [
    "for user in range(NO_OF_USERS):\n",
    "    users[user].generate_obfuscated_feature_v()\n",
    "\n",
    "# NOTE - share distribution and obfuscated vector generation can be done in the same loop"
   ]
  },
  {
   "cell_type": "markdown",
   "metadata": {},
   "source": [
    "#### Secure Aggregation\n",
    "\n",
    "Let's now see if aggregating the obfuscated feature vectors results in the same result as aggregating the raw feature vectors. If so, our protocol has been implemented correctly."
   ]
  },
  {
   "cell_type": "code",
   "execution_count": 9,
   "metadata": {},
   "outputs": [
    {
     "name": "stdout",
     "output_type": "stream",
     "text": [
      "Sum of raw vectors: \n",
      "\n",
      " [0.8572 0.7144 0.5715 0.4287 0.2858 0.1429 0.    ]\n",
      "Sum of masked vectors: \n",
      "\n",
      " [0.8572 0.7144 0.5715 0.4287 0.2858 0.1429 0.    ]\n",
      "\n"
     ]
    }
   ],
   "source": [
    "# Computing Target Function: Aggregate Sum\n",
    "\n",
    "target_result = np.sum(list([user.feature_vector for user in users]), axis = 0)\n",
    "masked_vector_result = np.sum(list([user.obfuscated_feature_v for user in users]), axis = 0)\n",
    "\n",
    "# if we need to be extra precise :\n",
    "target_result = np.round(target_result, 4) \n",
    "masked_vector_result = np.round(masked_vector_result, 4)\n",
    "assert np.array_equal(target_result, masked_vector_result)\n",
    "\n",
    "print(f\"Sum of raw vectors: \\n\\n {target_result}\")\n",
    "print(f\"Sum of masked vectors: \\n\\n {masked_vector_result}\\n\")"
   ]
  }
 ],
 "metadata": {
  "kernelspec": {
   "display_name": "project-venv",
   "language": "python",
   "name": "project-venv"
  },
  "language_info": {
   "codemirror_mode": {
    "name": "ipython",
    "version": 3
   },
   "file_extension": ".py",
   "mimetype": "text/x-python",
   "name": "python",
   "nbconvert_exporter": "python",
   "pygments_lexer": "ipython3",
   "version": "3.8.10"
  },
  "orig_nbformat": 4,
  "vscode": {
   "interpreter": {
    "hash": "916dbcbb3f70747c44a77c7bcd40155683ae19c65e1c03b4aa3499c5328201f1"
   }
  }
 },
 "nbformat": 4,
 "nbformat_minor": 2
}
