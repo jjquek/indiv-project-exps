{
 "cells": [
  {
   "cell_type": "markdown",
   "metadata": {},
   "source": [
    "## Test Run of Proposed Protocol\n",
    "\n",
    "Given the security deficiencies of using Python's `random` module, here is an alternative way for $N$ users to generate a shared random $D$ value for each run of the SAFE Protocol.\n",
    "\n",
    "Steps:\n",
    "* each user uses the `secret` module (which uses a Crytographically-Secure PRNG) to generate a random integer.\n",
    "* this integer is mapped to a float (in the case of `0` or `nan`, some default float value is used as their secret share.)\n",
    "* users do additive secret sharing of their float values to come up with a shared $D$ value.\n",
    "\n",
    "### Example Test Run \n",
    "\n",
    "Let $N = 10$. First we **define helper functions**. "
   ]
  },
  {
   "cell_type": "code",
   "execution_count": 5,
   "metadata": {},
   "outputs": [
    {
     "name": "stdout",
     "output_type": "stream",
     "text": [
      "For the output: 4140206672, we have the float: 2.0134376733753925e+33\n",
      "For the output: 2195631465, we have the float: 1569832.524\n"
     ]
    }
   ],
   "source": [
    "# Helper Functions To Convert Integers To Floats\n",
    "\n",
    "\"\"\"\n",
    "* Key Resources: (code adapted from)\n",
    "# https://stackoverflow.com/questions/8751653/how-to-convert-a-binary-string-into-a-float-value\n",
    "# https://stackoverflow.com/questions/25099626/convert-scientific-notation-to-float\n",
    "# https://stackoverflow.com/questions/30971079/how-to-convert-an-integer-to-a-list-of-bits\n",
    "\"\"\"\n",
    "\n",
    "import math\n",
    "from codecs import decode\n",
    "import struct\n",
    "\n",
    "DEFAULT_FLOAT = 1569832.524 # NOTE- just choosing some value. Not sure if there's a better way to do it.\n",
    "\n",
    "def int_to_bin(num: int) -> str:\n",
    "    \"\"\" Convert integer to binary string representation. \"\"\"\n",
    "    list_of_bits = [1 if num & (1 << (31-n)) else 0 for n in range(32)]\n",
    "    string_version = ''.join([str(bit) for bit in list_of_bits])\n",
    "    return string_version\n",
    "\n",
    "def bin_to_float(byte_string: str) -> str:\n",
    "    \"\"\" Convert binary string to a float. \"\"\"\n",
    "    float_bytes = int(byte_string, 2).to_bytes(4, 'big')  \n",
    "    # see https://docs.python.org/3/library/struct.html for manipulation of params\n",
    "    float_string =  format(struct.unpack('>f', float_bytes)[0], 'f')\n",
    "    return float(float_string)\n",
    "\n",
    "def int_to_float(num: int) -> float:\n",
    "    bits = int_to_bin(num)\n",
    "    result = abs(bin_to_float(bits))\n",
    "    if result == 0.0 or math.isnan(result):\n",
    "        return DEFAULT_FLOAT\n",
    "    else:\n",
    "        return result \n",
    "\n",
    "# Test examples\n",
    "num = 4140206672 # doesn't return nan\n",
    "print(f'For the output: {num}, we have the float: {int_to_float(num)}')\n",
    "\n",
    "zero_num = 2195631465 # `result` in `int_to_float` will be 0.0\n",
    "print(f'For the output: {zero_num}, we have the float: {int_to_float(zero_num)}')"
   ]
  },
  {
   "cell_type": "markdown",
   "metadata": {},
   "source": [
    "Next, we have 10 users generate cryptographically-secure psuedo-random integers."
   ]
  },
  {
   "cell_type": "code",
   "execution_count": null,
   "metadata": {},
   "outputs": [],
   "source": [
    "import secrets"
   ]
  }
 ],
 "metadata": {
  "kernelspec": {
   "display_name": "Python 3.8.10 ('my_venv': venv)",
   "language": "python",
   "name": "python3"
  },
  "language_info": {
   "codemirror_mode": {
    "name": "ipython",
    "version": 3
   },
   "file_extension": ".py",
   "mimetype": "text/x-python",
   "name": "python",
   "nbconvert_exporter": "python",
   "pygments_lexer": "ipython3",
   "version": "3.8.10"
  },
  "orig_nbformat": 4,
  "vscode": {
   "interpreter": {
    "hash": "ca44cade67de28f420a60dffa446fdd52df8cf85741523fb65df66df28ddc7a0"
   }
  }
 },
 "nbformat": 4,
 "nbformat_minor": 2
}
