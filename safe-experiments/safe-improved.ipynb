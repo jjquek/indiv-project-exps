{
 "cells": [
  {
   "cell_type": "markdown",
   "metadata": {},
   "source": [
    "# Making SAFE More Secure\n",
    "\n",
    "As discussed in the Section ..., it may be desirable to make the SAFE Protocol more secure against privacy-invasing information flows that could result from the aggregator's knowledge of the interval `[-D, D]`. \n",
    "\n",
    "This notebook illustrates a way to make privacy-invading bound inferences on the private values of users via randomizing the `[-D, D]` on each protocl run. \n",
    "\n",
    "The intent is not to thorough or completely rigorous; each step in the suggested procedure will throw up a host of issues that, to fully resolve, would take us beyond the scope of the project. The aim is to sketch an approach and nudge in the direction of how to develop this approach fully to maximal security.\n",
    "\n",
    "[add specific section]:# (add section in the above)\n",
    "\n",
    "Comments will be made on the limits this randomization introduces.\n",
    "\n",
    "## Randomization Algorithm\n",
    "\n",
    "As described in Section ..., one particular information flow that a semi-honest aggregator could exploit to infer bounds on private values rests on their knowledge of the doubles interval `[-D, D]` they know users draw random shares from.\n",
    "\n",
    "This suggests a way to make SAFE more secure: randomize `[-D, D]` in each protocol run such that the aggregator would not be able to leverage knowledge of `[-D, D]` to make those inferences.\n",
    "\n",
    "One way to do this would be to:\n",
    "* Assume all users begin with some shared secret seed\n",
    "* Using this shared seed, they generate a bit sequence using some given Pseudorandom Generator\n",
    "* Map this bit sequence to a real value using some deterministic algorithm\n",
    "* Use this real value as `D` in the `[-D, D]` interval.\n",
    "\n",
    "The effcet of this will be that each protocl run executes with a `D` value the aggregator is not able to know, thus preventing inferences on the basis of `[-D, D]`.\n",
    "\n",
    "Let us consider this procedure in greater detail. "
   ]
  },
  {
   "cell_type": "markdown",
   "metadata": {},
   "source": [
    "## Shared Secret Seed\n",
    "\n",
    "Pseudorandom Generators (PRNG) are algorithms that generate a sequence of numbers that approximate a sequence of truly random numbers.{cite}`wiki:Pseudorandom_number_generator`. They are 'pseudorandom' because the sequence they generate is entirely determined by the initial seed value that is passed in. This means that if users use the same seed for the same PRNG, each time they invoke the PRNG, they will end up with the same output. Mapping this output to a real value, they can use this to set the `[-D, D]` interval from which they draw their random shares.\n",
    "\n",
    "For this to achieve the intended effect of making the SAFE protocol more secure, a few conditions must be met:\n",
    "* users must have a shared secret seed that the aggregator does not learn of\n",
    "* users must use the same PRNG\n",
    "* there must be an effective way to map the output of a PRNG to a real value suitable for use as the `D` value\n",
    "\n",
    "### Distributing A Shared Secret Seed\n",
    "\n",
    "Unfortunately, considering this first step takes us to a host of issues that we must consider. These issues relate to the general problem of secret establishment among many (i.e., more than two parties).\n",
    "\n",
    "In this section, we will consider a variety of protocols for establishing the shared secret seed. \n",
    "\n",
    "Ultimately, no protocol comes without limitations and additional complexities. However, these are important considerations when deciding whether or not the greater security afforded by this proposed algorithm is worth the costs.\n",
    "\n",
    "The following subsections will discuss various protocols. To skip ahead to a tentative decision and proceed with see the rest of the procedure, click [here](#shared-pseudorandom-generator--getting-a-real)\n",
    "\n",
    "#### Diffe-Helman Key Exchange\n",
    "\n",
    "Let us first consider how users might establish a secret seed by via communicating with one another.\n",
    "\n",
    "To do this, we can first consider the Diffe-Helman Key Exchange. We will see that this protocol in its simplest form is not a viable solution,however, it is worth explicating and considering it first as it will raise certain issues and themes that will be picked up in subsequent protocols.\n",
    "\n",
    "The Diffe-Helman Key Exchange is a means for two parties to establish some secure key in an insecure channel. This section's basic description of the protocol relies on {cite}`wiki:Diffie–Hellman_key_exchange`\n",
    "\n",
    "##### Two Users \n",
    "\n",
    "For instance, suppose we have just two users in engaged in the SAFE protocol run, Alice and Bob. \n",
    "\n",
    "Both users publically agree on a $p$ and $g$ value, where $p$ is some prime and $g$ is the primitive root modulo $p$ or *group generator* for the multiplicative group of integers modulo $p$. \n",
    "\n",
    "Both Alice and Bob each choose some secret integer. Let $a$ denote Alice's secret and $b$ denote Bob's secret.\n",
    "\n",
    "Alice computes $A = g^a  \\space mod  \\space p$ and sends $A$ to Bob, while Bob computes $B = g^b  \\space mod  \\space p$ and sends $B$ to Alice,\n",
    "\n",
    "Then, Alice computes $B^a  \\space mod \\space p$ and Bob computes $A^b  \\space mod  \\space p$.\n",
    "\n",
    "Becuase\n",
    "\n",
    "$$\n",
    "(g^a mod p)^b mod  \\space p = (g^b mod p)^a mod  \\space p \n",
    "$$\n",
    "\n",
    ", both Alice and Bob would have arrived at the same value, $S$.\n",
    "\n",
    "Even if the aggregator knows $g$, $p$, $A$ and $B$, it is very hard for them to derive the $S$ that Alice and Bob now share, so long as $a$ and $b$ remain hidden.\n",
    "\n",
    "How hard is 'very hard'? The hardness of deriving $S$ consists in solving the *discrete logarithmic problem*, a problem deemed very hard for even modern supercomputers.\n",
    "\n",
    "##### $N$ (where $N > 2$) Users\n",
    "\n",
    "Of course, our use case is not likely to involve just two users, but many, many more. Is such a protocol scalable?\n",
    "\n",
    "Assuming we try to simply scale the bare version of the protocol, we end up with a fairly untenable growth in complexity. More specifically, with $N$ users, each user will do $N$ exponentiations, meaning that there'll be a total of $N^2$ exponentiations for $N$ users.{cite}`se:generalize-diffe-helman`\n",
    "\n",
    "An exponential growth in operations is probably undesirable even if the use-case is constrained to a relatively small scale. So, let us consider alternative protocols.\n",
    "\n",
    "##### Using a Key Distribution Protocol\n",
    "\n",
    "An alternative to having each user communicate with every other user is to designate some trusted server or chairman who distributes the secret seed to each user. However, this, among other things, merely introduces another third party and for whom undesirable information flows (assuming a semi-honest model) could result from. So, this option is a non-starter. \n",
    "\n",
    "##### Using A Key Agreement Protocol\n",
    "\n",
    "One alternative protocol comes from {cite}`10.1093/comjnl/bxh111`. Tseng presents a multi-party key agreement protocol which allows $N$ users to collaboratively establish a common key without a designated chairman. This protocol is used to establish a common key in the context where there are \n",
    "\n",
    "The general idea behind the protocol is this: each user begins with two broadcast round. In each broadcast round, they calculate some random variable labelled with their user-id and send it to all other participants. The results of the first broadcast round are used to calculate the results distributed during the second broadcast round.\n",
    "\n",
    "After receiving the second broadcast round variates from all other users, each user can compute two checks to see if there is any malicious participant in the protocol run. This check is user-specific, so pinpointing who the malicious participant is can be done. However, to save computational costs, users could instead bypass these initial checks and compute the common key $K$ according to some formula. This would be what happens if the two checks raise no issues anyway.\n",
    "\n",
    "Then, they check if they can decrypt encrypted conference messages. If not, then there is a malicious particpant who has disrupted the conference and they must run the fault deduction procedure, and oust the malicious participant. If userse can decrypt conference messages using the constructed key $K$, that means there are no malicious participants in this conference round.\n",
    "\n",
    "Tseng proves that the total computational cost of this protocol for each participant is $O(N)$ for $N$ participants, resistant to malicious participants. Moreover, number of messaging rounds and message size stay constant as $N$ grows. (ibid., 477)  \n",
    "\n",
    "##### Usable in SAFE?\n",
    "\n",
    "As promising as this protocol is, there are some things to consider with applying it in the SAFE protocol, and particularly for our use-case.\n",
    "\n",
    "It is stipulated in Tseng's protocol that each user knows that set $U$ where $U$ is the set of initial participants wanting to generate the common conference key. (ibid., 471) However, this raises another general issue to reckon with in key distributions: authentication. Even assuming that we set up the infrastructure and resources required for communication, how do users know that those participating in the conference are in fact users? How do they know the aggregator is not included in the conference?\n",
    "\n",
    "Tsung states that this protocol is a non-authenticated multi-party key agreement, which, \"by its very nature cannot provide provide participant and message authentication, so it must rely on the authenticated network channel, or use another scheme to provide authentication.\" (ibid., 471) So, one way forwad is to assume that the users are part of an authenticated broadcast channel, and thus that it is secure against an impersonating aggregator (ibid.). Or, as suggested by Teng (ibid), one could apply the compiler presented in {cite}`10.1007/978-3-540-45146-4_7`. This compiler \"transforms any group key-exchange protocol secure against a passive eavesdropper to an authenticated protocol which is secure against an active adversary who controls all communication in the network.\" (ibid., 110)\n",
    "\n",
    "So, the problem of authentication is not insurmountable. But, either way, it's clear that trying to run this introduces some additional complexities, which will need to be weighted against other constraints. \n",
    "\n",
    "Another key consideration for its use in SAFE is that there aren't any conference messages for users to decrypt anyway. Instead, all that is needed is for users to generate some common seed.\n",
    "\n",
    "Assuming a semi-honest model (which is what SAFE assumes), this is tenable because all users will conform to the protocol and compute the secret key accordingly. So, we could use the operations proposed in the paper to generate the requisite seed.\n",
    "\n",
    "[even though Dr Huth has responded and given a suggestion, I don't think I'm going to take it up]:# (doesn't seem like a non-communication style is feasible)\n",
    "\n",
    "##### Further Work\n",
    "\n",
    "A fuller and more rigorious analysis of the various issues would be in order if one really were pressed to ensure both the scalability an security of this procedure run over the SAFE protocol. That is beyond the scope of this project, so I defer it for future work.\n",
    "\n",
    "We have from {cite}`10.1093/comjnl/bxh111` a viable protocol for our purposes, so I will work simply assume that the $N$ users have established the secret seed by the means of the key agreement protocol, and consider the next step.\n"
   ]
  },
  {
   "cell_type": "markdown",
   "metadata": {},
   "source": [
    "## Shared Pseudorandom Generator & Getting A Real\n",
    "\n",
    "The distribution of the shared PRNG is far simpler than the distribution of the secret seed, since it can be public knowledge. It is acceptable that the aggregator knows what is the pseudorandom generator in use, so long as the seed parameter remains secret.\n",
    "\n",
    "### Picking a Pseudo-Random Generator\n",
    "\n",
    "One possible pseudorandom generator that could be used is the well-known Linear Congruential Generator (LCG).\n",
    "\n",
    "A Linear Congruential Generator is an algorithm that yields a sequence of random numbers calculated via the following recurence:{cite}`wiki:Linear_congruential_generator`\n",
    "\n",
    "$$\n",
    "X_{n+1}=X_n*a+c \\space (mod m)\n",
    "$$.\n",
    "\n",
    "$X_0$ is the seed or \"start value\".\n",
    "\n",
    "Crucial to the quality of these PRNGs are the parameters $a$ (the multiplier), $c$ (the increment), and $m$ (the modulo).\n",
    "\n",
    "Here we rely on {cite}`DBLP:journals/corr/abs-2001-05304` for recent guidance on judicious paramter values and the decision to use an LCG.\n",
    "\n",
    "As they note, while LCGs have known defects, these can be mitigated if used in conjunction with other PRNGs or fed into some output function. (ibid. 2) For the kind of LCGs we have in mind here, namely where LCGs with multiplieres are $w$-bit and $m = 2^{2w}$, \"it is now well undestood that LCGs of this kind should not be used in isolation, but rather as components of composite (or combined) PRNGs\" (ibid.)\n",
    "\n",
    "LCGs have the desriabel features of \"speed and simplicity, as well as a substantial accured body of mathematical analysis\", they can help to mitigate for the various costs raised from step 1 above (generating the shared secret seed). \n",
    "\n",
    "Configuring more robust PRNG combinations or compositions is deferred to further work. As the below plot shows, a simple LCG can generate a sequence that can make simple inferences on the `D` value untenable. \n",
    "\n",
    "Here is an example plot of the values generated by an LCG:"
   ]
  },
  {
   "cell_type": "code",
   "execution_count": 1,
   "metadata": {},
   "outputs": [
    {
     "data": {
      "text/plain": [
       "<Figure size 432x288 with 0 Axes>"
      ]
     },
     "metadata": {},
     "output_type": "display_data"
    },
    {
     "data": {
      "image/png": "[encoded data removed]",
      "text/plain": [
       "<Figure size 1152x504 with 1 Axes>"
      ]
     },
     "metadata": {
      "needs_background": "light"
     },
     "output_type": "display_data"
    }
   ],
   "source": [
    "\"\"\"\n",
    "*    Title: LCG Generator Source Code\n",
    "*    Author: Sebastià Agramunt Puig \n",
    "*    Date: 2021\n",
    "*    Code version: (Git Commmit SHA) e76ebc56e2642de126600fc3eee50b5a1ec2e48b  \n",
    "*    Availability: https://github.com/OpenMined/courses/blob/f23c6d2b7a27afd7fbfd683c8fd05ca0df9925ec/cryptography/notebooks/Pseudorandom_Generators.ipynb\n",
    "\"\"\"\n",
    "\n",
    "a = 1664525\n",
    "c = 1013904223\n",
    "m = 2**32\n",
    "\n",
    "def lcg(x0: int, a: int, c: int, m: int) -> int:\n",
    "    return (x0*a+c)%m\n",
    "\n",
    "x0 = 433\n",
    "\n",
    "l = []\n",
    "\n",
    "xn = x0\n",
    "for _ in range(100000):\n",
    "    xn = lcg(xn, a, c, m)\n",
    "    l.append(xn/m)\n",
    "\n",
    "import matplotlib.pyplot as plt\n",
    "\n",
    "plt.clf()\n",
    "fig = plt.figure(figsize=(16,7))\n",
    "plt.hist(l, bins=50)\n",
    "plt.show()"
   ]
  },
  {
   "cell_type": "markdown",
   "metadata": {},
   "source": [
    "The y-axis represnts frequencies of generated values-- the flat distribution is indicative of randomness approximation.\n",
    "\n",
    "Of course, protection against mere 'eyeballing' is far from robust security. But, following the guidance gestured at above, a more robust PRNG can be constructed.\n",
    "\n",
    "---\n",
    "\n",
    "Suppose then that we have some public PRNG and a shared secret seed for that PRNG among the users. There is just one more step for users to have randomized `D` values-- we need to convert the output of the PRNG to a float. \n",
    "\n",
    "## Deriving Random D values From PRNG Output\n",
    "\n",
    "Consider the first 10 outputs of the PRNG coded above:"
   ]
  },
  {
   "cell_type": "code",
   "execution_count": 2,
   "metadata": {},
   "outputs": [
    {
     "name": "stdout",
     "output_type": "stream",
     "text": [
      "1734643548\n",
      "2376393483\n",
      "1280826606\n",
      "2989096821\n",
      "4140206672\n",
      "1634720111\n",
      "4220925954\n",
      "1435670393\n",
      "3356220036\n",
      "1962779667\n"
     ]
    }
   ],
   "source": [
    "\"\"\"\n",
    "* code source: ibid.\n",
    "\"\"\"\n",
    "\n",
    "xn = x0\n",
    "for _ in range(10):\n",
    "    xn = lcg(xn, a, c, m)\n",
    "    print(xn)"
   ]
  },
  {
   "cell_type": "markdown",
   "metadata": {},
   "source": [
    "One way to map these integer outputs is to use their bit representations to derive IEEE Single-Precision Floats.\n",
    "\n",
    "We can see their bit representations here:"
   ]
  },
  {
   "cell_type": "code",
   "execution_count": 3,
   "metadata": {},
   "outputs": [
    {
     "name": "stdout",
     "output_type": "stream",
     "text": [
      "1734643548: 0b1100111011001001000111101011100, bit-length: 31 \n",
      "2376393483: 0b10001101101001001110001100001011, bit-length: 32 \n",
      "1280826606: 0b1001100010101111101110011101110, bit-length: 31 \n",
      "2989096821: 0b10110010001010011111111101110101, bit-length: 32 \n",
      "4140206672: 0b11110110110001101000101001010000, bit-length: 32 \n",
      "1634720111: 0b1100001011011111101100101101111, bit-length: 31 \n",
      "4220925954: 0b11111011100101100011100000000010, bit-length: 32 \n",
      "1435670393: 0b1010101100100101001011101111001, bit-length: 31 \n",
      "3356220036: 0b11001000000010111101101010000100, bit-length: 32 \n",
      "1962779667: 0b1110100111111011010010000010011, bit-length: 31 \n"
     ]
    }
   ],
   "source": [
    "xn = x0\n",
    "for _ in range(10):\n",
    "    xn = lcg(xn, a, c, m)\n",
    "    print(f'{xn}: {bin(xn)}, bit-length: {len(bin(xn)[2:])} ')"
   ]
  },
  {
   "cell_type": "markdown",
   "metadata": {},
   "source": [
    "The IEEE Single-Precision format consists of 32-bits. For numbers that have 32 bit representations, we can simply create floats by taking the 32 bits as represented by the 1-8-23 bit split between the sign, exponent and fraction, and then getting the float represented by those 32 bits.\n",
    "\n",
    "For numbers that don't have 32 bit representations, we can pad the bits with either a 0 or 1, and then proceed with this algorithm.\n",
    "\n",
    "Let's see how this might work in practice:\n",
    "1. First, get the binary string representation of the PRNG's output\n",
    "2. Then, we convert that binary string representation into a float of the required format\n",
    "3. The **absolute** value of the float returned will be `D`\n",
    "\n",
    "In Python:"
   ]
  },
  {
   "cell_type": "code",
   "execution_count": 9,
   "metadata": {},
   "outputs": [
    {
     "name": "stdout",
     "output_type": "stream",
     "text": [
      "For the output: 4140206672, we have the float: 2.0134376733753925e+33\n"
     ]
    }
   ],
   "source": [
    "\"\"\"\n",
    "* Key Resources: (code adapted from)\n",
    "# https://stackoverflow.com/questions/8751653/how-to-convert-a-binary-string-into-a-float-value\n",
    "# https://stackoverflow.com/questions/25099626/convert-scientific-notation-to-float\n",
    "# https://stackoverflow.com/questions/30971079/how-to-convert-an-integer-to-a-list-of-bits\n",
    "\"\"\"\n",
    "\n",
    "from codecs import decode\n",
    "import struct\n",
    "\n",
    "def int_to_bin(num: int) -> str:\n",
    "    \"\"\" Convert integer to binary string representation. \"\"\"\n",
    "    list_of_bits = [1 if num & (1 << (31-n)) else 0 for n in range(32)]\n",
    "    string_version = ''.join([str(bit) for bit in list_of_bits])\n",
    "    return string_version\n",
    "\n",
    "def bin_to_float(byte_string: str) -> str:\n",
    "    \"\"\" Convert binary string to a float. \"\"\"\n",
    "    float_bytes = int(byte_string, 2).to_bytes(4, 'big')  \n",
    "    # see https://docs.python.org/3/library/struct.html for manipulation of params\n",
    "    float_string =  format(struct.unpack('>f', float_bytes)[0], 'f')\n",
    "    return float(float_string)\n",
    "\n",
    "def int_to_float(num: int) -> float:\n",
    "    bits = int_to_bin(num)\n",
    "    return abs(bin_to_float(bits))\n",
    "\n",
    "# Test example\n",
    "num = 4140206672\n",
    "print(f'For the output: {num}, we have the float: {int_to_float(num)}')\n"
   ]
  },
  {
   "cell_type": "markdown",
   "metadata": {},
   "source": [
    "We now have a way for users to arrive at the same `D` value to run the protocol with, while the aggregator will not be able to reconstruct this same `D` value so long as the shared seed value remains secret.\n",
    "\n",
    "## Putting Everything Together\n",
    "\n",
    "Let's bring everything together and see our procedure generate a few `D` values. We will generate 10."
   ]
  },
  {
   "cell_type": "code",
   "execution_count": 17,
   "metadata": {},
   "outputs": [
    {
     "name": "stdout",
     "output_type": "stream",
     "text": [
      "Output: 1353554354; D Value: 23300247552.0\n",
      "Output: 2195631465; D Value: 0.0\n",
      "Output: 2316736436; D Value: 0.0\n",
      "Output: 278552451; D Value: 0.0\n",
      "Output: 3927899910; D Value: 4.80536484081769e+25\n",
      "Output: 1630816941; D Value: 2.0786218064984356e+20\n",
      "Output: 1287433256; D Value: 98918720.0\n",
      "Output: 511943015; D Value: 0.0\n",
      "Output: 4269551514; D Value: 8.3803154095307225e+37\n",
      "Output: 1237236273; D Value: 1562438.125\n"
     ]
    }
   ],
   "source": [
    "# assume users have random_seed\n",
    "\n",
    "random_seed = 165343 # any value < m is fine\n",
    "\n",
    "a = 1664525\n",
    "c = 1013904223\n",
    "m = 2**32\n",
    "\n",
    "# generate 10 random outputs\n",
    "\n",
    "random_outputs = []\n",
    "\n",
    "xn = random_seed\n",
    "for _ in range(10):\n",
    "    xn = lcg(xn, a, c, m)\n",
    "    random_outputs.append(xn)\n",
    "\n",
    "# convert to D values\n",
    "\n",
    "D_values = [int_to_float(output) for output in random_outputs]\n",
    "\n",
    "for output, D in zip(random_outputs, D_values):\n",
    "    print(f'Output: {output}; D Value: {D}')\n",
    "\n",
    "# why are there 0 values?\n"
   ]
  },
  {
   "cell_type": "markdown",
   "metadata": {},
   "source": [
    "### Commment\n",
    "\n",
    "I'm unsure why there are 0 and sometimes `nan` values, but an immediate fix would be to simply regenerate an output if the `int_to_float` procedure returns a zero or a `nan`.\n",
    "\n"
   ]
  },
  {
   "cell_type": "markdown",
   "metadata": {},
   "source": [
    "## Test Runs of SAFE With Random `[-D, D]` Interval\n",
    "\n",
    "Now, let's consider the perspective of the aggregator trying to make bound inferences on a user's private value given 10 runs of the SAFE Protocol with randomized `D` values. \n",
    "\n",
    "We will look at the obfuscated feature vector he receives in each round and consider whether information flows of the kind mentioned in Section ..., are still possible.\n"
   ]
  },
  {
   "cell_type": "markdown",
   "metadata": {},
   "source": []
  },
  {
   "cell_type": "markdown",
   "metadata": {},
   "source": [
    "### Bibliography\n",
    "\n",
    "[needed to include this bibliography tag to get citations to work: found that from https://github.com/executablebooks/jupyter-book/issues/1662]:# (why this bibliography code block is needed)\n",
    "\n",
    "```{bibliography}\n",
    "```"
   ]
  }
 ],
 "metadata": {
  "kernelspec": {
   "display_name": "Python 3.8.10 ('my_venv': venv)",
   "language": "python",
   "name": "python3"
  },
  "language_info": {
   "codemirror_mode": {
    "name": "ipython",
    "version": 3
   },
   "file_extension": ".py",
   "mimetype": "text/x-python",
   "name": "python",
   "nbconvert_exporter": "python",
   "pygments_lexer": "ipython3",
   "version": "3.8.10"
  },
  "orig_nbformat": 4,
  "vscode": {
   "interpreter": {
    "hash": "ca44cade67de28f420a60dffa446fdd52df8cf85741523fb65df66df28ddc7a0"
   }
  }
 },
 "nbformat": 4,
 "nbformat_minor": 2
}
