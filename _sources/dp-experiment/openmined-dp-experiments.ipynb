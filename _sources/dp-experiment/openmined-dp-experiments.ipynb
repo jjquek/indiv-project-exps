{
 "cells": [
  {
   "cell_type": "markdown",
   "metadata": {},
   "source": [
    "### OpenMined's PyDP Tutorial\n",
    "\n",
    "Here I follow [OpenMined's tutorial on using their Python wrapper for Google's DP library, PyDP](https://blog.openmined.org/differential-privacy-using-pydp/).\n",
    "\n",
    "### Importing Necessary Files\n",
    "\n",
    "I've already imported `pydp` into `my_venv`. I begin by importing the necessary files."
   ]
  },
  {
   "cell_type": "code",
   "execution_count": 1,
   "metadata": {},
   "outputs": [],
   "source": [
    "import pydp as dp # by convention our package is to be imported as dp (dp for Differential Privacy!)\n",
    "from pydp.algorithms.laplacian import BoundedSum, BoundedMean, Count, Max\n",
    "import pandas as pd\n",
    "import statistics \n",
    "import numpy as np\n",
    "import matplotlib.pyplot as plt"
   ]
  },
  {
   "cell_type": "markdown",
   "metadata": {},
   "source": [
    "### Reading in the Dataset\n",
    "\n",
    "We're working a 5000-record dataset, split across 5 files with 1000 records each.\n",
    "\n",
    "Let's grab the data from each file, store it into a `pd.dataframe`, and see the first 5 rows. "
   ]
  },
  {
   "cell_type": "code",
   "execution_count": null,
   "metadata": {},
   "outputs": [],
   "source": [
    "# file 1\n",
    "url1 = 'https://raw.githubusercontent.com/OpenMined/PyDP/dev/examples/Tutorial_4-Launch_demo/data/01.csv'\n",
    "df1 = pd.read_csv(url1,sep=\",\", engine = \"python\")\n",
    "print(df1.head())"
   ]
  },
  {
   "cell_type": "code",
   "execution_count": null,
   "metadata": {},
   "outputs": [],
   "source": [
    "# file 2\n",
    "url2 = 'https://raw.githubusercontent.com/OpenMined/PyDP/dev/examples/Tutorial_4-Launch_demo/data/02.csv'\n",
    "df2 = pd.read_csv(url2,sep=\",\", engine = \"python\")\n",
    "print(df2.head())"
   ]
  },
  {
   "cell_type": "code",
   "execution_count": null,
   "metadata": {},
   "outputs": [],
   "source": [
    "# file 3\n",
    "url3 ='https://raw.githubusercontent.com/OpenMined/PyDP/dev/examples/Tutorial_4-Launch_demo/data/03.csv'\n",
    "df3 = pd.read_csv(url3,sep=\",\", engine = \"python\")\n",
    "df3.head()"
   ]
  },
  {
   "cell_type": "code",
   "execution_count": null,
   "metadata": {},
   "outputs": [],
   "source": [
    "# file 4\n",
    "url4 = 'https://raw.githubusercontent.com/OpenMined/PyDP/dev/examples/Tutorial_4-Launch_demo/data/04.csv'\n",
    "df4 = pd.read_csv(url4,sep=\",\", engine = \"python\")\n",
    "print(df4.head())"
   ]
  },
  {
   "cell_type": "code",
   "execution_count": null,
   "metadata": {},
   "outputs": [],
   "source": [
    "# file 5\n",
    "url5 = 'https://raw.githubusercontent.com/OpenMined/PyDP/dev/examples/Tutorial_4-Launch_demo/data/05.csv'\n",
    "df5 = pd.read_csv(url5,sep=\",\", engine = \"python\")\n",
    "print(df5.head())"
   ]
  },
  {
   "cell_type": "markdown",
   "metadata": {},
   "source": [
    "Now that we have all 5 files, let's concatenate them into a single `pd.dataframe`"
   ]
  },
  {
   "cell_type": "code",
   "execution_count": null,
   "metadata": {},
   "outputs": [],
   "source": [
    "combined_df_temp = [df1, df2, df3, df4, df5]\n",
    "original_dataset = pd.concat(combined_df_temp)\n",
    "print(original_dataset.shape)"
   ]
  },
  {
   "cell_type": "markdown",
   "metadata": {},
   "source": [
    "### Creating an Adjacent Dataset\n",
    "\n",
    "To illustrate Differential Privacy, let's create an **adjacent dataset** from this dataframe. We'll remove the first non-header row and save that to another dataset."
   ]
  },
  {
   "cell_type": "code",
   "execution_count": null,
   "metadata": {},
   "outputs": [],
   "source": [
    "redact_dataset = original_dataset.copy()\n",
    "redact_dataset = redact_dataset[1:]\n",
    "print(original_dataset.head())\n",
    "print(redact_dataset.head())"
   ]
  },
  {
   "cell_type": "markdown",
   "metadata": {},
   "source": [
    "### Illustrating A Membership Inference Attack\n",
    "\n",
    "Below, we show that it possible to identify the presence of someone in a dataset even after we've removed personal identifier information. In this case, we can derive the amount that Osbourne had spent by taking the difference between the sum of these two adjacent datasets. With the amount the missing entry had spent, we can easily found whose record was removed. "
   ]
  },
  {
   "cell_type": "code",
   "execution_count": null,
   "metadata": {},
   "outputs": [],
   "source": [
    "sum_original_dataset = round(sum(original_dataset['sales_amount'].to_list()), 2)\n",
    "sum_redact_dataset = round(sum(redact_dataset['sales_amount'].to_list()), 2)\n",
    "sales_amount_Osbourne = round((sum_original_dataset - sum_redact_dataset), 2)\n",
    "assert sales_amount_Osbourne == original_dataset.iloc[0, 4]"
   ]
  },
  {
   "cell_type": "markdown",
   "metadata": {},
   "source": [
    "### Showing How a Differentially Private Sum Is Not Susceptible To The Same Attack\n",
    "\n",
    "However, such an attack can be prevented if we use a differentially private sum operation."
   ]
  },
  {
   "cell_type": "code",
   "execution_count": null,
   "metadata": {},
   "outputs": [],
   "source": [
    "dp_sum_original_dataset = BoundedSum(epsilon= 1.5, lower_bound =  5, upper_bound = 250, dtype ='float') \n",
    "dp_sum_og = dp_sum_original_dataset.quick_result(original_dataset['sales_amount'].to_list())\n",
    "dp_sum_og = round(dp_sum_og, 2)\n",
    "print(dp_sum_og)\n",
    "\n",
    "# Output dp_sum_og\n",
    "# 636723.61"
   ]
  },
  {
   "cell_type": "code",
   "execution_count": null,
   "metadata": {},
   "outputs": [],
   "source": [
    "dp_redact_dataset = BoundedSum(epsilon= 1.5, lower_bound =  5, upper_bound = 250, dtype ='float')\n",
    "dp_redact_dataset.add_entries(redact_dataset['sales_amount'].to_list())\n",
    "dp_sum_redact=round(dp_redact_dataset.result(), 2)\n",
    "print(dp_sum_redact)\n",
    "\n",
    "# Output dp_sum_redact\n",
    "# 636659.17"
   ]
  },
  {
   "cell_type": "code",
   "execution_count": null,
   "metadata": {},
   "outputs": [],
   "source": [
    "print(f\"Sum of sales_value in the orignal dataset: {sum_original_dataset}\")\n",
    "print(f\"Sum of sales_value in the orignal dataset with DP: {dp_sum_og}\")\n",
    "assert dp_sum_og != sum_original_dataset\n",
    "\n",
    "# Output\n",
    "# Sum of sales_value in the orignal dataset: 636594.59\n",
    "# Sum of sales_value in the orignal dataset with DP: 636723.61\n",
    "\n",
    "print(f\"Sum of sales_value in the second dataset: {sum_redact_dataset}\")\n",
    "print(f\"Sum of sales_value in the second dataset with DP: {dp_sum_redact}\")\n",
    "assert dp_sum_redact != sum_redact_dataset\n",
    "\n",
    "# Output\n",
    "# Sum of sales_value in the second dataset: 636562.65\n",
    "# Sum of sales_value in the second dataset with DP: 636659.17\n",
    "\n",
    "print(f\"Difference in Sum with DP: {round(dp_sum_og - dp_sum_redact, 2)}\")\n",
    "print(f\"Actual Difference in Sum: {sales_amount_Osbourne}\")\n",
    "assert round(dp_sum_og - dp_sum_redact, 2) != sales_amount_Osbourne\n",
    "\n",
    "# Output\n",
    "# Difference in sum using DP: 64.44\n",
    "# Actual Value: 31.94"
   ]
  }
 ],
 "metadata": {
  "kernelspec": {
   "display_name": "my_venv",
   "language": "python",
   "name": "my_venv"
  },
  "language_info": {
   "codemirror_mode": {
    "name": "ipython",
    "version": 3
   },
   "file_extension": ".py",
   "mimetype": "text/x-python",
   "name": "python",
   "nbconvert_exporter": "python",
   "pygments_lexer": "ipython3",
   "version": "3.8.10"
  },
  "orig_nbformat": 4,
  "vscode": {
   "interpreter": {
    "hash": "3f455586e1da815884094c1644049a5b7079ab01be3d30d5df84edf79ed6a436"
   }
  }
 },
 "nbformat": 4,
 "nbformat_minor": 2
}
